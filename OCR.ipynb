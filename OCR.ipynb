{
 "cells": [
  {
   "cell_type": "code",
   "execution_count": 2,
   "id": "b7af244c",
   "metadata": {},
   "outputs": [
    {
     "name": "stderr",
     "output_type": "stream",
     "text": [
      "2023-01-19 18:43:40.500307: I tensorflow/core/platform/cpu_feature_guard.cc:193] This TensorFlow binary is optimized with oneAPI Deep Neural Network Library (oneDNN) to use the following CPU instructions in performance-critical operations:  AVX2 FMA\n",
      "To enable them in other operations, rebuild TensorFlow with the appropriate compiler flags.\n",
      "2023-01-19 18:43:41.143698: W tensorflow/compiler/xla/stream_executor/platform/default/dso_loader.cc:64] Could not load dynamic library 'libcudart.so.11.0'; dlerror: libcudart.so.11.0: cannot open shared object file: No such file or directory; LD_LIBRARY_PATH: /home/zsahildhillon/.local/lib/python3.8/site-packages/cv2/../../lib64:\n",
      "2023-01-19 18:43:41.143742: I tensorflow/compiler/xla/stream_executor/cuda/cudart_stub.cc:29] Ignore above cudart dlerror if you do not have a GPU set up on your machine.\n",
      "2023-01-19 18:43:43.358289: W tensorflow/compiler/xla/stream_executor/platform/default/dso_loader.cc:64] Could not load dynamic library 'libnvinfer.so.7'; dlerror: libnvinfer.so.7: cannot open shared object file: No such file or directory; LD_LIBRARY_PATH: /home/zsahildhillon/.local/lib/python3.8/site-packages/cv2/../../lib64:\n",
      "2023-01-19 18:43:43.358693: W tensorflow/compiler/xla/stream_executor/platform/default/dso_loader.cc:64] Could not load dynamic library 'libnvinfer_plugin.so.7'; dlerror: libnvinfer_plugin.so.7: cannot open shared object file: No such file or directory; LD_LIBRARY_PATH: /home/zsahildhillon/.local/lib/python3.8/site-packages/cv2/../../lib64:\n",
      "2023-01-19 18:43:43.358716: W tensorflow/compiler/tf2tensorrt/utils/py_utils.cc:38] TF-TRT Warning: Cannot dlopen some TensorRT libraries. If you would like to use Nvidia GPU with TensorRT, please make sure the missing libraries mentioned above are installed properly.\n"
     ]
    }
   ],
   "source": [
    "import numpy as np\n",
    "import matplotlib.pyplot as plt\n",
    "import cv2\n",
    "import tensorflow as tf\n",
    "import matplotlib.pyplot as plt"
   ]
  },
  {
   "cell_type": "code",
   "execution_count": 2,
   "id": "48b413f2",
   "metadata": {},
   "outputs": [],
   "source": [
    "# pip install tensorflow"
   ]
  },
  {
   "cell_type": "code",
   "execution_count": 3,
   "id": "1c889d4f",
   "metadata": {},
   "outputs": [],
   "source": [
    "# pip install opencv-python"
   ]
  },
  {
   "cell_type": "code",
   "execution_count": 4,
   "id": "882ab40a",
   "metadata": {},
   "outputs": [],
   "source": [
    "# Implementing ANN from scratch\n",
    "def init_params(layer_dims):\n",
    "#     np.random.seed(3)\n",
    "    params = {}\n",
    "    for l in range(1, len(layer_dims)):\n",
    "        params['W'+str(l)] = np.random.randn(layer_dims[l], layer_dims[l-1])*0.01\n",
    "        params['b'+str(l)] = np.zeros((layer_dims[l], 1))\n",
    "        \n",
    "    return params\n",
    "\n",
    "# Z (linear hypothesis) - Z = W*X + b , \n",
    "# W - weight matrix, b- bias vector, X- Input \n",
    "def sigmoid(Z):\n",
    "    A = 1/(1+np.exp(np.dot(-1, Z)))\n",
    "    cache = (Z)\n",
    "    return A, cache\n",
    "\n",
    "\n",
    "def forward_prop(X, params):\n",
    "    \n",
    "    A = X # input to first layer i.e. training data\n",
    "    caches = []\n",
    "    L = len(params)//2\n",
    "    for l in range(1, L+1):\n",
    "        A_prev = A\n",
    "        \n",
    "        # Linear Hypothesis\n",
    "        Z = np.dot(params['W'+str(l)], A_prev) + params['b'+str(l)] \n",
    "        \n",
    "        # Storing the linear cache\n",
    "        linear_cache = (A_prev, params['W'+str(l)], params['b'+str(l)]) \n",
    "        \n",
    "        # Applying sigmoid on linear hypothesis\n",
    "        A, activation_cache = sigmoid(Z) \n",
    "        \n",
    "         # storing the both linear and activation cache\n",
    "        cache = (linear_cache, activation_cache)\n",
    "        caches.append(cache)\n",
    "    \n",
    "    return A, caches\n",
    "\n",
    "def cost_function(A, Y):\n",
    "#     m = Y.shape[1]\n",
    "    m=1\n",
    "    \n",
    "    cost = (-1/m)*(np.dot(np.log(A), Y.T) + np.dot(log(1-A), 1-Y.T)) \n",
    "    \n",
    "    return cost\n",
    "\n",
    "def one_layer_backward(dA, cache):\n",
    "    linear_cache, activation_cache = cache\n",
    "    \n",
    "    Z = activation_cache\n",
    "    dZ = dA*sigmoid(Z)*(1-sigmoid(Z)) # The derivative of the sigmoid function\n",
    "    \n",
    "    A_prev, W, b = linear_cache\n",
    "    m = A_prev.shape[1]\n",
    "    \n",
    "    dW = (1/m)*np.dot(dZ, A_prev.T)\n",
    "    db = (1/m)*np.sum(dZ, axis=1, keepdims=True)\n",
    "    dA_prev = np.dot(W.T, dZ)\n",
    "    \n",
    "    return dA_prev, dW, db\n",
    "\n",
    "def backprop(AL, Y, caches):\n",
    "    grads = {}\n",
    "    L = len(caches)\n",
    "    m = AL.shape[1]\n",
    "    Y = Y.reshape(AL.shape)\n",
    "    \n",
    "    dAL = -(np.divide(Y, AL) - np.divide(1-Y, 1-AL))\n",
    "    \n",
    "    current_cache = caches[L-1]\n",
    "    grads['dA'+str(L-1)], grads['dW'+str(L-1)], grads['db'+str(L-1)] = one_layer_backward(dAL, current_cache)\n",
    "    \n",
    "    for l in reversed(range(L-1)):\n",
    "        \n",
    "        current_cache = caches[l]\n",
    "        dA_prev_temp, dW_temp, db_temp = one_layer_backward(grads[\"dA\" + str(l+1)], current_cache)\n",
    "        grads[\"dA\" + str(l)] = dA_prev_temp\n",
    "        grads[\"dW\" + str(l + 1)] = dW_temp\n",
    "        grads[\"db\" + str(l + 1)] = db_temp\n",
    "        \n",
    "    return grads\n",
    "\n",
    "\n",
    "def update_parameters(parameters, grads, learning_rate):\n",
    "    L = len(parameters) // 2\n",
    "    \n",
    "    for l in range(L):\n",
    "        parameters['W'+str(l+1)] = parameters['W'+str(l+1)] -learning_rate*grads['W'+str(l+1)]\n",
    "        parameters['b'+str(l+1)] = parameters['b'+str(l+1)] -  learning_rate*grads['b'+str(l+1)]\n",
    "        \n",
    "    return parameters\n",
    "\n",
    "def train(X, Y, layer_dims, epochs, lr):\n",
    "    params = init_params(layer_dims)\n",
    "    cost_history = []\n",
    "    \n",
    "    for i in range(epochs):\n",
    "        Y_hat, caches = forward_prop(X[0], params)\n",
    "        cost = cost_function(Y_hat, Y)\n",
    "        cost_history.append(cost)\n",
    "        grads = backprop(Y_hat, Y, caches)\n",
    "        \n",
    "        params = update_parameters(params, grads, lr)\n",
    "        \n",
    "        \n",
    "    return params, cost_history\n",
    "print(init_params([784,128,128,10])['W1'])"
   ]
  },
  {
   "cell_type": "code",
   "execution_count": 3,
   "id": "2c85c76f",
   "metadata": {},
   "outputs": [],
   "source": [
    "(X_train, y_train), (X_test, y_test) = tf.keras.datasets.mnist.load_data()"
   ]
  },
  {
   "cell_type": "code",
   "execution_count": 4,
   "id": "1ea78c50",
   "metadata": {},
   "outputs": [],
   "source": [
    "\n",
    "X_train = tf.keras.utils.normalize(X_train, axis=1)\n",
    "X_test = tf.keras.utils.normalize(X_test, axis=1)"
   ]
  },
  {
   "cell_type": "code",
   "execution_count": 5,
   "id": "b1b619ff",
   "metadata": {},
   "outputs": [
    {
     "name": "stdout",
     "output_type": "stream",
     "text": [
      "The shape of the training inputs: (60000, 28, 28)\n",
      "The shape of the training labels: (60000,)\n",
      "The shape of the testing inputs: (10000, 28, 28)\n",
      "The shape of the testing labels: (10000,)\n"
     ]
    }
   ],
   "source": [
    "print('The shape of the training inputs:', X_train.shape)\n",
    "print('The shape of the training labels:',y_train.shape)\n",
    "print('The shape of the testing inputs:',X_test.shape)\n",
    "print('The shape of the testing labels:',y_test.shape)"
   ]
  },
  {
   "cell_type": "code",
   "execution_count": 6,
   "id": "259f58d6",
   "metadata": {},
   "outputs": [
    {
     "data": {
      "image/png": "[encoded data removed]",
      "text/plain": [
       "<Figure size 432x288 with 9 Axes>"
      ]
     },
     "metadata": {
      "needs_background": "light"
     },
     "output_type": "display_data"
    }
   ],
   "source": [
    "fig, axs = plt.subplots(3, 3)\n",
    "cnt = 0\n",
    "for i in range(3):\n",
    "     for j in range(3):\n",
    "         axs[i, j].imshow(X_train[cnt])\n",
    "         cnt += 1"
   ]
  },
  {
   "cell_type": "code",
   "execution_count": 20,
   "id": "96aa16fe",
   "metadata": {},
   "outputs": [],
   "source": [
    "model = tf.keras.models.Sequential()"
   ]
  },
  {
   "cell_type": "code",
   "execution_count": 21,
   "id": "0082becf",
   "metadata": {},
   "outputs": [],
   "source": [
    "model.add(tf.keras.layers.Flatten(input_shape=(28,28)))   "
   ]
  },
  {
   "cell_type": "code",
   "execution_count": 22,
   "id": "5ef9dda5",
   "metadata": {},
   "outputs": [],
   "source": [
    "model.add(tf.keras.layers.Dense(units=128, activation=tf.nn.relu))   # 1st hidden layer\n",
    "model.add(tf.keras.layers.Dense(units=128, activation=tf.nn.relu))   # 2nd hidden layer"
   ]
  },
  {
   "cell_type": "code",
   "execution_count": 23,
   "id": "17e69e7e",
   "metadata": {},
   "outputs": [],
   "source": [
    "model.add(tf.keras.layers.Dense(units=10, activation=tf.nn.softmax))   # output layer"
   ]
  },
  {
   "cell_type": "code",
   "execution_count": 24,
   "id": "4e267a72",
   "metadata": {},
   "outputs": [
    {
     "name": "stdout",
     "output_type": "stream",
     "text": [
      "Model: \"sequential_1\"\n",
      "_________________________________________________________________\n",
      " Layer (type)                Output Shape              Param #   \n",
      "=================================================================\n",
      " flatten_2 (Flatten)         (None, 784)               0         \n",
      "                                                                 \n",
      " dense_9 (Dense)             (None, 128)               100480    \n",
      "                                                                 \n",
      " dense_10 (Dense)            (None, 128)               16512     \n",
      "                                                                 \n",
      " dense_11 (Dense)            (None, 10)                1290      \n",
      "                                                                 \n",
      "=================================================================\n",
      "Total params: 118,282\n",
      "Trainable params: 118,282\n",
      "Non-trainable params: 0\n",
      "_________________________________________________________________\n"
     ]
    }
   ],
   "source": [
    "model.summary()"
   ]
  },
  {
   "cell_type": "code",
   "execution_count": 25,
   "id": "10b94a66",
   "metadata": {},
   "outputs": [],
   "source": [
    "model.compile(optimizer='adam', loss='sparse_categorical_crossentropy', metrics=['accuracy'])"
   ]
  },
  {
   "cell_type": "code",
   "execution_count": 28,
   "id": "38533229",
   "metadata": {},
   "outputs": [
    {
     "name": "stdout",
     "output_type": "stream",
     "text": [
      "Epoch 1/12\n",
      "  8/600 [..............................] - ETA: 4s - loss: 0.0149 - accuracy: 0.9975"
     ]
    },
    {
     "name": "stderr",
     "output_type": "stream",
     "text": [
      "2023-01-19 18:49:47.080744: W tensorflow/tsl/framework/cpu_allocator_impl.cc:82] Allocation of 188160000 exceeds 10% of free system memory.\n"
     ]
    },
    {
     "name": "stdout",
     "output_type": "stream",
     "text": [
      "600/600 [==============================] - 4s 7ms/step - loss: 0.0151 - accuracy: 0.9954\n",
      "Epoch 2/12\n",
      "600/600 [==============================] - 4s 7ms/step - loss: 0.0118 - accuracy: 0.9963\n",
      "Epoch 3/12\n",
      "600/600 [==============================] - 4s 6ms/step - loss: 0.0097 - accuracy: 0.9971\n",
      "Epoch 4/12\n",
      "600/600 [==============================] - 4s 6ms/step - loss: 0.0108 - accuracy: 0.9965\n",
      "Epoch 5/12\n",
      "600/600 [==============================] - 4s 7ms/step - loss: 0.0088 - accuracy: 0.9971\n",
      "Epoch 6/12\n",
      "600/600 [==============================] - 4s 6ms/step - loss: 0.0068 - accuracy: 0.9978\n",
      "Epoch 7/12\n",
      "600/600 [==============================] - 4s 7ms/step - loss: 0.0096 - accuracy: 0.9968\n",
      "Epoch 8/12\n",
      "600/600 [==============================] - 4s 7ms/step - loss: 0.0057 - accuracy: 0.9983\n",
      "Epoch 9/12\n",
      "600/600 [==============================] - 4s 7ms/step - loss: 0.0063 - accuracy: 0.9978\n",
      "Epoch 10/12\n",
      "600/600 [==============================] - 4s 7ms/step - loss: 0.0038 - accuracy: 0.9990\n",
      "Epoch 11/12\n",
      "600/600 [==============================] - 4s 7ms/step - loss: 0.0063 - accuracy: 0.9980\n",
      "Epoch 12/12\n",
      "600/600 [==============================] - 5s 8ms/step - loss: 0.0050 - accuracy: 0.9984\n"
     ]
    },
    {
     "data": {
      "text/plain": [
       "<keras.callbacks.History at 0x7f0fc441c250>"
      ]
     },
     "execution_count": 28,
     "metadata": {},
     "output_type": "execute_result"
    }
   ],
   "source": [
    "model.fit(X_train, y_train, epochs=12, batch_size=100)"
   ]
  },
  {
   "cell_type": "code",
   "execution_count": 29,
   "id": "484d044e",
   "metadata": {},
   "outputs": [
    {
     "name": "stdout",
     "output_type": "stream",
     "text": [
      "313/313 [==============================] - 1s 4ms/step - loss: 0.1340 - accuracy: 0.9751\n",
      "0.1339513510465622\n",
      "0.9750999808311462\n"
     ]
    }
   ],
   "source": [
    "loss, accuracy = model.evaluate(X_test, y_test)\n",
    "print(loss)\n",
    "print(accuracy)"
   ]
  },
  {
   "cell_type": "code",
   "execution_count": 30,
   "id": "081786f2",
   "metadata": {},
   "outputs": [
    {
     "name": "stdout",
     "output_type": "stream",
     "text": [
      "313/313 [==============================] - 1s 3ms/step\n"
     ]
    },
    {
     "data": {
      "text/plain": [
       "array([[3.28666095e-16, 2.18620940e-15, 2.60410590e-13, ...,\n",
       "        9.99999940e-01, 5.21224288e-19, 8.85735441e-14],\n",
       "       [6.33926793e-23, 6.26130311e-12, 9.99999940e-01, ...,\n",
       "        1.06022381e-21, 3.52699150e-21, 2.49617589e-31],\n",
       "       [6.18328630e-14, 9.99999583e-01, 1.89618616e-11, ...,\n",
       "        1.05367903e-07, 9.82565407e-09, 1.07629963e-13],\n",
       "       ...,\n",
       "       [2.45946339e-17, 2.67853610e-13, 6.00727347e-18, ...,\n",
       "        1.55942992e-08, 3.27766209e-14, 3.84557630e-08],\n",
       "       [3.54516344e-15, 1.13205186e-16, 2.02883873e-15, ...,\n",
       "        1.03723894e-13, 6.33394075e-06, 8.37002912e-16],\n",
       "       [1.25091626e-16, 2.05921171e-17, 1.37975566e-16, ...,\n",
       "        3.64238078e-21, 6.90270723e-18, 2.09155346e-23]], dtype=float32)"
      ]
     },
     "execution_count": 30,
     "metadata": {},
     "output_type": "execute_result"
    }
   ],
   "source": [
    "prediction = model.predict([X_test])\n",
    "prediction"
   ]
  },
  {
   "cell_type": "code",
   "execution_count": 37,
   "id": "55dddc01",
   "metadata": {},
   "outputs": [
    {
     "name": "stdout",
     "output_type": "stream",
     "text": [
      "Prediction:  7\n",
      "Prediction:  2\n",
      "Prediction:  1\n",
      "Prediction:  0\n",
      "Prediction:  4\n",
      "Prediction:  1\n",
      "Prediction:  4\n",
      "Prediction:  9\n",
      "Prediction:  5\n"
     ]
    },
    {
     "data": {
      "image/png": "[encoded data removed]",
      "text/plain": [
       "<Figure size 432x288 with 9 Axes>"
      ]
     },
     "metadata": {
      "needs_background": "light"
     },
     "output_type": "display_data"
    }
   ],
   "source": [
    "# let us do prediction for single image\n",
    "fig, axs = plt.subplots(3, 3)\n",
    "cnt = 0\n",
    "for i in range(3):\n",
    "     for j in range(3):\n",
    "         axs[i, j].imshow(X_test[cnt])\n",
    "         cnt += 1\n",
    "for i in range(9):\n",
    "#     print('Probabilities: ', prediction[1])\n",
    "#     print('\\n')\n",
    "    print('Prediction: ', np.argmax(prediction[i]))\n",
    "#     plt.imshow(X_test[i])\n"
   ]
  }
 ],
 "metadata": {
  "kernelspec": {
   "display_name": "Python 3 (ipykernel)",
   "language": "python",
   "name": "python3"
  },
  "language_info": {
   "codemirror_mode": {
    "name": "ipython",
    "version": 3
   },
   "file_extension": ".py",
   "mimetype": "text/x-python",
   "name": "python",
   "nbconvert_exporter": "python",
   "pygments_lexer": "ipython3",
   "version": "3.8.10"
  }
 },
 "nbformat": 4,
 "nbformat_minor": 5
}
